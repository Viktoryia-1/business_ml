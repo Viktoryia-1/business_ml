{
 "cells": [
  {
   "cell_type": "code",
   "execution_count": 65,
   "id": "609ad013",
   "metadata": {},
   "outputs": [],
   "source": [
    "import pandas as pd\n",
    "import numpy as np\n",
    "import matplotlib.pyplot as plt\n",
    "import seaborn as sns\n",
    "from scipy.stats import mannwhitneyu, chi2_contingency\n",
    "\n",
    "from sklearn.model_selection import train_test_split\n",
    "from sklearn.preprocessing import OneHotEncoder, LabelEncoder\n",
    "from sklearn.metrics import precision_recall_curve, accuracy_score, f1_score, classification_report, recall_score, precision_score\n",
    "from sklearn.linear_model import LogisticRegression\n",
    "from sklearn.neighbors import KNeighborsClassifier\n",
    "from sklearn.ensemble import RandomForestClassifier, BaggingClassifier\n",
    "from catboost import CatBoostClassifier\n",
    "from lightgbm import LGBMClassifier"
   ]
  },
  {
   "cell_type": "code",
   "execution_count": 66,
   "id": "928e25a9",
   "metadata": {},
   "outputs": [],
   "source": [
    "# функция оценки метрик\n",
    "def metrics(y_true, y_preds, show=False):\n",
    "\n",
    "    precision = precision_score(y_true, y_preds, zero_division=0)\n",
    "    recall = recall_score(y_true, y_preds)\n",
    "    f_score = f1_score(y_true, y_preds)\n",
    "    accuracy = accuracy_score(y_true, y_preds)\n",
    "    \n",
    "    if show:\n",
    "        return print('Precision=%.3f, Recall=%.3f, F_score=%.3f, Accuracy=%f' %(\n",
    "        precision, recall, f_score, accuracy))\n",
    "    else:\n",
    "        return precision, recall, f_score, accuracy\n",
    "    "
   ]
  },
  {
   "cell_type": "code",
   "execution_count": 67,
   "id": "84e11203",
   "metadata": {},
   "outputs": [],
   "source": [
    "df = pd.read_csv('monkeypox.csv')"
   ]
  },
  {
   "cell_type": "code",
   "execution_count": 68,
   "id": "fbd12ff4",
   "metadata": {},
   "outputs": [
    {
     "data": {
      "text/html": [
       "<div>\n",
       "<style scoped>\n",
       "    .dataframe tbody tr th:only-of-type {\n",
       "        vertical-align: middle;\n",
       "    }\n",
       "\n",
       "    .dataframe tbody tr th {\n",
       "        vertical-align: top;\n",
       "    }\n",
       "\n",
       "    .dataframe thead th {\n",
       "        text-align: right;\n",
       "    }\n",
       "</style>\n",
       "<table border=\"1\" class=\"dataframe\">\n",
       "  <thead>\n",
       "    <tr style=\"text-align: right;\">\n",
       "      <th></th>\n",
       "      <th>Patient_ID</th>\n",
       "      <th>Systemic Illness</th>\n",
       "      <th>Rectal Pain</th>\n",
       "      <th>Sore Throat</th>\n",
       "      <th>Penile Oedema</th>\n",
       "      <th>Oral Lesions</th>\n",
       "      <th>Solitary Lesion</th>\n",
       "      <th>Swollen Tonsils</th>\n",
       "      <th>HIV Infection</th>\n",
       "      <th>Sexually Transmitted Infection</th>\n",
       "      <th>MonkeyPox</th>\n",
       "    </tr>\n",
       "  </thead>\n",
       "  <tbody>\n",
       "    <tr>\n",
       "      <th>0</th>\n",
       "      <td>P0</td>\n",
       "      <td>None</td>\n",
       "      <td>False</td>\n",
       "      <td>True</td>\n",
       "      <td>True</td>\n",
       "      <td>True</td>\n",
       "      <td>False</td>\n",
       "      <td>True</td>\n",
       "      <td>False</td>\n",
       "      <td>False</td>\n",
       "      <td>Negative</td>\n",
       "    </tr>\n",
       "    <tr>\n",
       "      <th>1</th>\n",
       "      <td>P1</td>\n",
       "      <td>Fever</td>\n",
       "      <td>True</td>\n",
       "      <td>False</td>\n",
       "      <td>True</td>\n",
       "      <td>True</td>\n",
       "      <td>False</td>\n",
       "      <td>False</td>\n",
       "      <td>True</td>\n",
       "      <td>False</td>\n",
       "      <td>Positive</td>\n",
       "    </tr>\n",
       "    <tr>\n",
       "      <th>2</th>\n",
       "      <td>P2</td>\n",
       "      <td>Fever</td>\n",
       "      <td>False</td>\n",
       "      <td>True</td>\n",
       "      <td>True</td>\n",
       "      <td>False</td>\n",
       "      <td>False</td>\n",
       "      <td>False</td>\n",
       "      <td>True</td>\n",
       "      <td>False</td>\n",
       "      <td>Positive</td>\n",
       "    </tr>\n",
       "  </tbody>\n",
       "</table>\n",
       "</div>"
      ],
      "text/plain": [
       "  Patient_ID Systemic Illness  Rectal Pain  Sore Throat  Penile Oedema  \\\n",
       "0         P0             None        False         True           True   \n",
       "1         P1            Fever         True        False           True   \n",
       "2         P2            Fever        False         True           True   \n",
       "\n",
       "   Oral Lesions  Solitary Lesion  Swollen Tonsils  HIV Infection  \\\n",
       "0          True            False             True          False   \n",
       "1          True            False            False           True   \n",
       "2         False            False            False           True   \n",
       "\n",
       "   Sexually Transmitted Infection MonkeyPox  \n",
       "0                           False  Negative  \n",
       "1                           False  Positive  \n",
       "2                           False  Positive  "
      ]
     },
     "execution_count": 68,
     "metadata": {},
     "output_type": "execute_result"
    }
   ],
   "source": [
    "df.head(3)"
   ]
  },
  {
   "cell_type": "code",
   "execution_count": 69,
   "id": "e0f55bba",
   "metadata": {},
   "outputs": [
    {
     "name": "stdout",
     "output_type": "stream",
     "text": [
      "<class 'pandas.core.frame.DataFrame'>\n",
      "RangeIndex: 25000 entries, 0 to 24999\n",
      "Data columns (total 11 columns):\n",
      " #   Column                          Non-Null Count  Dtype \n",
      "---  ------                          --------------  ----- \n",
      " 0   Patient_ID                      25000 non-null  object\n",
      " 1   Systemic Illness                25000 non-null  object\n",
      " 2   Rectal Pain                     25000 non-null  bool  \n",
      " 3   Sore Throat                     25000 non-null  bool  \n",
      " 4   Penile Oedema                   25000 non-null  bool  \n",
      " 5   Oral Lesions                    25000 non-null  bool  \n",
      " 6   Solitary Lesion                 25000 non-null  bool  \n",
      " 7   Swollen Tonsils                 25000 non-null  bool  \n",
      " 8   HIV Infection                   25000 non-null  bool  \n",
      " 9   Sexually Transmitted Infection  25000 non-null  bool  \n",
      " 10  MonkeyPox                       25000 non-null  object\n",
      "dtypes: bool(8), object(3)\n",
      "memory usage: 781.4+ KB\n"
     ]
    }
   ],
   "source": [
    "df.info()"
   ]
  },
  {
   "cell_type": "code",
   "execution_count": 70,
   "id": "fed3348a",
   "metadata": {},
   "outputs": [
    {
     "data": {
      "text/html": [
       "<div>\n",
       "<style scoped>\n",
       "    .dataframe tbody tr th:only-of-type {\n",
       "        vertical-align: middle;\n",
       "    }\n",
       "\n",
       "    .dataframe tbody tr th {\n",
       "        vertical-align: top;\n",
       "    }\n",
       "\n",
       "    .dataframe thead th {\n",
       "        text-align: right;\n",
       "    }\n",
       "</style>\n",
       "<table border=\"1\" class=\"dataframe\">\n",
       "  <thead>\n",
       "    <tr style=\"text-align: right;\">\n",
       "      <th></th>\n",
       "      <th>Patient_ID</th>\n",
       "      <th>Systemic Illness</th>\n",
       "      <th>Rectal Pain</th>\n",
       "      <th>Sore Throat</th>\n",
       "      <th>Penile Oedema</th>\n",
       "      <th>Oral Lesions</th>\n",
       "      <th>Solitary Lesion</th>\n",
       "      <th>Swollen Tonsils</th>\n",
       "      <th>HIV Infection</th>\n",
       "      <th>Sexually Transmitted Infection</th>\n",
       "      <th>MonkeyPox</th>\n",
       "    </tr>\n",
       "  </thead>\n",
       "  <tbody>\n",
       "    <tr>\n",
       "      <th>count</th>\n",
       "      <td>25000</td>\n",
       "      <td>25000</td>\n",
       "      <td>25000</td>\n",
       "      <td>25000</td>\n",
       "      <td>25000</td>\n",
       "      <td>25000</td>\n",
       "      <td>25000</td>\n",
       "      <td>25000</td>\n",
       "      <td>25000</td>\n",
       "      <td>25000</td>\n",
       "      <td>25000</td>\n",
       "    </tr>\n",
       "    <tr>\n",
       "      <th>unique</th>\n",
       "      <td>25000</td>\n",
       "      <td>4</td>\n",
       "      <td>2</td>\n",
       "      <td>2</td>\n",
       "      <td>2</td>\n",
       "      <td>2</td>\n",
       "      <td>2</td>\n",
       "      <td>2</td>\n",
       "      <td>2</td>\n",
       "      <td>2</td>\n",
       "      <td>2</td>\n",
       "    </tr>\n",
       "    <tr>\n",
       "      <th>top</th>\n",
       "      <td>P0</td>\n",
       "      <td>Fever</td>\n",
       "      <td>False</td>\n",
       "      <td>True</td>\n",
       "      <td>True</td>\n",
       "      <td>False</td>\n",
       "      <td>True</td>\n",
       "      <td>True</td>\n",
       "      <td>True</td>\n",
       "      <td>False</td>\n",
       "      <td>Positive</td>\n",
       "    </tr>\n",
       "    <tr>\n",
       "      <th>freq</th>\n",
       "      <td>1</td>\n",
       "      <td>6382</td>\n",
       "      <td>12655</td>\n",
       "      <td>12554</td>\n",
       "      <td>12612</td>\n",
       "      <td>12514</td>\n",
       "      <td>12527</td>\n",
       "      <td>12533</td>\n",
       "      <td>12584</td>\n",
       "      <td>12554</td>\n",
       "      <td>15909</td>\n",
       "    </tr>\n",
       "  </tbody>\n",
       "</table>\n",
       "</div>"
      ],
      "text/plain": [
       "       Patient_ID Systemic Illness Rectal Pain Sore Throat Penile Oedema  \\\n",
       "count       25000            25000       25000       25000         25000   \n",
       "unique      25000                4           2           2             2   \n",
       "top            P0            Fever       False        True          True   \n",
       "freq            1             6382       12655       12554         12612   \n",
       "\n",
       "       Oral Lesions Solitary Lesion Swollen Tonsils HIV Infection  \\\n",
       "count         25000           25000           25000         25000   \n",
       "unique            2               2               2             2   \n",
       "top           False            True            True          True   \n",
       "freq          12514           12527           12533         12584   \n",
       "\n",
       "       Sexually Transmitted Infection MonkeyPox  \n",
       "count                           25000     25000  \n",
       "unique                              2         2  \n",
       "top                             False  Positive  \n",
       "freq                            12554     15909  "
      ]
     },
     "execution_count": 70,
     "metadata": {},
     "output_type": "execute_result"
    }
   ],
   "source": [
    "df.describe()"
   ]
  },
  {
   "cell_type": "code",
   "execution_count": 71,
   "id": "754b58a1",
   "metadata": {},
   "outputs": [],
   "source": [
    "def count_values(value):\n",
    "    result = df[value].value_counts()\n",
    "    fig, ax = plt.subplots(figsize=(8, 6))\n",
    "    ax.set_title(value)\n",
    "    bar = plt.bar(result.index, result)\n",
    "    ax.set_ylabel('amount')\n",
    "    ax.bar_label(bar)"
   ]
  },
  {
   "cell_type": "code",
   "execution_count": 72,
   "id": "3930f4d3",
   "metadata": {},
   "outputs": [],
   "source": [
    "df.drop('Patient_ID', axis=1, inplace=True)"
   ]
  },
  {
   "cell_type": "code",
   "execution_count": 73,
   "id": "bb2e24a3",
   "metadata": {},
   "outputs": [
    {
     "data": {
      "image/png": "[encoded data removed]",
      "text/plain": [
       "<Figure size 576x432 with 1 Axes>"
      ]
     },
     "metadata": {
      "needs_background": "light"
     },
     "output_type": "display_data"
    },
    {
     "data": {
      "image/png": "[encoded data removed]",
      "text/plain": [
       "<Figure size 576x432 with 1 Axes>"
      ]
     },
     "metadata": {
      "needs_background": "light"
     },
     "output_type": "display_data"
    },
    {
     "data": {
      "image/png": "[encoded data removed]",
      "text/plain": [
       "<Figure size 576x432 with 1 Axes>"
      ]
     },
     "metadata": {
      "needs_background": "light"
     },
     "output_type": "display_data"
    },
    {
     "data": {
      "image/png": "[encoded data removed]",
      "text/plain": [
       "<Figure size 576x432 with 1 Axes>"
      ]
     },
     "metadata": {
      "needs_background": "light"
     },
     "output_type": "display_data"
    },
    {
     "data": {
      "image/png": "[encoded data removed]",
      "text/plain": [
       "<Figure size 576x432 with 1 Axes>"
      ]
     },
     "metadata": {
      "needs_background": "light"
     },
     "output_type": "display_data"
    },
    {
     "data": {
      "image/png": "[encoded data removed]",
      "text/plain": [
       "<Figure size 576x432 with 1 Axes>"
      ]
     },
     "metadata": {
      "needs_background": "light"
     },
     "output_type": "display_data"
    },
    {
     "data": {
      "image/png": "[encoded data removed]",
      "text/plain": [
       "<Figure size 576x432 with 1 Axes>"
      ]
     },
     "metadata": {
      "needs_background": "light"
     },
     "output_type": "display_data"
    },
    {
     "data": {
      "image/png": "[encoded data removed]",
      "text/plain": [
       "<Figure size 576x432 with 1 Axes>"
      ]
     },
     "metadata": {
      "needs_background": "light"
     },
     "output_type": "display_data"
    },
    {
     "data": {
      "image/png": "[encoded data removed]",
      "text/plain": [
       "<Figure size 576x432 with 1 Axes>"
      ]
     },
     "metadata": {
      "needs_background": "light"
     },
     "output_type": "display_data"
    },
    {
     "data": {
      "image/png": "[encoded data removed]",
      "text/plain": [
       "<Figure size 576x432 with 1 Axes>"
      ]
     },
     "metadata": {
      "needs_background": "light"
     },
     "output_type": "display_data"
    }
   ],
   "source": [
    "# посмотрим на данные\n",
    "# почти везде идеально пополам разбиты, кроме баланса классов\n",
    "for el in df.columns:\n",
    "    count_values(el)"
   ]
  },
  {
   "cell_type": "code",
   "execution_count": 74,
   "id": "dbbc5def",
   "metadata": {},
   "outputs": [
    {
     "data": {
      "image/png": "[encoded data removed]",
      "text/plain": [
       "<Figure size 720x576 with 2 Axes>"
      ]
     },
     "metadata": {
      "needs_background": "light"
     },
     "output_type": "display_data"
    }
   ],
   "source": [
    "# Слабая отрицательная корреляция между всеми признаками, странно\n",
    "coeffs = df.corr()\n",
    "plt.figure(figsize=(10, 8))\n",
    "sns.heatmap(coeffs, annot=True);"
   ]
  },
  {
   "cell_type": "code",
   "execution_count": 75,
   "id": "5f23ff2a",
   "metadata": {},
   "outputs": [],
   "source": [
    "boollean = df.select_dtypes('bool')\n",
    "bool_columns = boollean.columns\n",
    "\n",
    "for el in bool_columns:\n",
    "    df[el] = np.where(df[el] == True, 1, 0)"
   ]
  },
  {
   "cell_type": "code",
   "execution_count": 76,
   "id": "f602e9eb",
   "metadata": {},
   "outputs": [],
   "source": [
    "df.MonkeyPox = np.where(df.MonkeyPox == 'Positive', 1, 0)"
   ]
  },
  {
   "cell_type": "code",
   "execution_count": 77,
   "id": "8cebad0f",
   "metadata": {},
   "outputs": [
    {
     "data": {
      "text/html": [
       "<div>\n",
       "<style scoped>\n",
       "    .dataframe tbody tr th:only-of-type {\n",
       "        vertical-align: middle;\n",
       "    }\n",
       "\n",
       "    .dataframe tbody tr th {\n",
       "        vertical-align: top;\n",
       "    }\n",
       "\n",
       "    .dataframe thead th {\n",
       "        text-align: right;\n",
       "    }\n",
       "</style>\n",
       "<table border=\"1\" class=\"dataframe\">\n",
       "  <thead>\n",
       "    <tr style=\"text-align: right;\">\n",
       "      <th></th>\n",
       "      <th>Rectal Pain</th>\n",
       "      <th>Sore Throat</th>\n",
       "      <th>Penile Oedema</th>\n",
       "      <th>Oral Lesions</th>\n",
       "      <th>Solitary Lesion</th>\n",
       "      <th>Swollen Tonsils</th>\n",
       "      <th>HIV Infection</th>\n",
       "      <th>Sexually Transmitted Infection</th>\n",
       "      <th>MonkeyPox</th>\n",
       "      <th>Systemic Illness_Fever</th>\n",
       "      <th>Systemic Illness_Muscle Aches and Pain</th>\n",
       "      <th>Systemic Illness_None</th>\n",
       "      <th>Systemic Illness_Swollen Lymph Nodes</th>\n",
       "    </tr>\n",
       "  </thead>\n",
       "  <tbody>\n",
       "    <tr>\n",
       "      <th>0</th>\n",
       "      <td>0</td>\n",
       "      <td>1</td>\n",
       "      <td>1</td>\n",
       "      <td>1</td>\n",
       "      <td>0</td>\n",
       "      <td>1</td>\n",
       "      <td>0</td>\n",
       "      <td>0</td>\n",
       "      <td>0</td>\n",
       "      <td>0</td>\n",
       "      <td>0</td>\n",
       "      <td>1</td>\n",
       "      <td>0</td>\n",
       "    </tr>\n",
       "    <tr>\n",
       "      <th>1</th>\n",
       "      <td>1</td>\n",
       "      <td>0</td>\n",
       "      <td>1</td>\n",
       "      <td>1</td>\n",
       "      <td>0</td>\n",
       "      <td>0</td>\n",
       "      <td>1</td>\n",
       "      <td>0</td>\n",
       "      <td>1</td>\n",
       "      <td>1</td>\n",
       "      <td>0</td>\n",
       "      <td>0</td>\n",
       "      <td>0</td>\n",
       "    </tr>\n",
       "    <tr>\n",
       "      <th>2</th>\n",
       "      <td>0</td>\n",
       "      <td>1</td>\n",
       "      <td>1</td>\n",
       "      <td>0</td>\n",
       "      <td>0</td>\n",
       "      <td>0</td>\n",
       "      <td>1</td>\n",
       "      <td>0</td>\n",
       "      <td>1</td>\n",
       "      <td>1</td>\n",
       "      <td>0</td>\n",
       "      <td>0</td>\n",
       "      <td>0</td>\n",
       "    </tr>\n",
       "    <tr>\n",
       "      <th>3</th>\n",
       "      <td>1</td>\n",
       "      <td>0</td>\n",
       "      <td>0</td>\n",
       "      <td>0</td>\n",
       "      <td>1</td>\n",
       "      <td>1</td>\n",
       "      <td>1</td>\n",
       "      <td>0</td>\n",
       "      <td>1</td>\n",
       "      <td>0</td>\n",
       "      <td>0</td>\n",
       "      <td>1</td>\n",
       "      <td>0</td>\n",
       "    </tr>\n",
       "    <tr>\n",
       "      <th>4</th>\n",
       "      <td>1</td>\n",
       "      <td>1</td>\n",
       "      <td>1</td>\n",
       "      <td>0</td>\n",
       "      <td>0</td>\n",
       "      <td>1</td>\n",
       "      <td>1</td>\n",
       "      <td>0</td>\n",
       "      <td>1</td>\n",
       "      <td>0</td>\n",
       "      <td>0</td>\n",
       "      <td>0</td>\n",
       "      <td>1</td>\n",
       "    </tr>\n",
       "  </tbody>\n",
       "</table>\n",
       "</div>"
      ],
      "text/plain": [
       "   Rectal Pain  Sore Throat  Penile Oedema  Oral Lesions  Solitary Lesion  \\\n",
       "0            0            1              1             1                0   \n",
       "1            1            0              1             1                0   \n",
       "2            0            1              1             0                0   \n",
       "3            1            0              0             0                1   \n",
       "4            1            1              1             0                0   \n",
       "\n",
       "   Swollen Tonsils  HIV Infection  Sexually Transmitted Infection  MonkeyPox  \\\n",
       "0                1              0                               0          0   \n",
       "1                0              1                               0          1   \n",
       "2                0              1                               0          1   \n",
       "3                1              1                               0          1   \n",
       "4                1              1                               0          1   \n",
       "\n",
       "   Systemic Illness_Fever  Systemic Illness_Muscle Aches and Pain  \\\n",
       "0                       0                                       0   \n",
       "1                       1                                       0   \n",
       "2                       1                                       0   \n",
       "3                       0                                       0   \n",
       "4                       0                                       0   \n",
       "\n",
       "   Systemic Illness_None  Systemic Illness_Swollen Lymph Nodes  \n",
       "0                      1                                     0  \n",
       "1                      0                                     0  \n",
       "2                      0                                     0  \n",
       "3                      1                                     0  \n",
       "4                      0                                     1  "
      ]
     },
     "execution_count": 77,
     "metadata": {},
     "output_type": "execute_result"
    }
   ],
   "source": [
    "df = pd.get_dummies(df, columns=['Systemic Illness'])\n",
    "df.head()"
   ]
  },
  {
   "cell_type": "code",
   "execution_count": 78,
   "id": "7e3ea26b",
   "metadata": {},
   "outputs": [
    {
     "data": {
      "text/plain": [
       "((18750, 12), (18750,))"
      ]
     },
     "execution_count": 78,
     "metadata": {},
     "output_type": "execute_result"
    }
   ],
   "source": [
    "# Выбираем базовую модель\n",
    "X = df.drop(['MonkeyPox'], axis=1)\n",
    "y = df.MonkeyPox\n",
    "\n",
    "X_train, X_test, y_train, y_test = train_test_split(X, y, random_state=42,\n",
    "                                                   test_size=0.25)\n",
    "X_train.shape, y_train.shape"
   ]
  },
  {
   "cell_type": "code",
   "execution_count": 79,
   "id": "d0766284",
   "metadata": {},
   "outputs": [],
   "source": [
    "models_dict = {'Bagging': BaggingClassifier(),\n",
    "               'RandomForest': RandomForestClassifier(),\n",
    "              'Catboost': CatBoostClassifier(silent=True),\n",
    "               'LGBM': LGBMClassifier(),\n",
    "               'KNN': KNeighborsClassifier(),\n",
    "              'Logreg': LogisticRegression()\n",
    "              }\n",
    "preds_dict = {}"
   ]
  },
  {
   "cell_type": "code",
   "execution_count": 80,
   "id": "e38a936e",
   "metadata": {},
   "outputs": [],
   "source": [
    "for name, model in models_dict.items():        \n",
    "    model.fit(X_train, y_train)\n",
    "    preds = model.predict(X_test)\n",
    "    preds_dict[name] = preds\n"
   ]
  },
  {
   "cell_type": "code",
   "execution_count": 81,
   "id": "ff2ef541",
   "metadata": {},
   "outputs": [
    {
     "name": "stdout",
     "output_type": "stream",
     "text": [
      "Bagging\n",
      "Precision=0.715, Recall=0.859, F_score=0.780, Accuracy=0.687520\n",
      "RandomForest\n",
      "Precision=0.712, Recall=0.868, F_score=0.782, Accuracy=0.688000\n",
      "Catboost\n",
      "Precision=0.713, Recall=0.890, F_score=0.791, Accuracy=0.697120\n",
      "LGBM\n",
      "Precision=0.712, Recall=0.894, F_score=0.792, Accuracy=0.697600\n",
      "KNN\n",
      "Precision=0.708, Recall=0.790, F_score=0.747, Accuracy=0.653760\n",
      "Logreg\n",
      "Precision=0.722, Recall=0.862, F_score=0.786, Accuracy=0.696000\n"
     ]
    }
   ],
   "source": [
    "for name, preds in preds_dict.items():\n",
    "    print(name)\n",
    "    metrics(y_test, preds, show=True)"
   ]
  },
  {
   "cell_type": "code",
   "execution_count": 82,
   "id": "532b1ad7",
   "metadata": {},
   "outputs": [],
   "source": [
    "#разницы мало, посмотрим несколько штук в конце, возможно KNN и LogisticRegression"
   ]
  },
  {
   "cell_type": "code",
   "execution_count": 83,
   "id": "faa5f535",
   "metadata": {},
   "outputs": [],
   "source": [
    "# соотношение классов 1.7 : 1. в пользу позитивных случаев\n",
    "# Функция подготовки данных\n",
    "def make_data(fr:float):\n",
    "    ''' 0 < fr < 1\n",
    "        возвращает готовые к делению данные и количество примененных позитивных едениц'''\n",
    "\n",
    "    df_positive = df.loc[df.MonkeyPox == 1]\n",
    "    df_negitive = df.loc[df.MonkeyPox == 0]\n",
    "    n = round(df_positive.shape[0] * fr)\n",
    "  \n",
    "    positive_amount = df_positive.sample(n=n, random_state=42)\n",
    "    positive_amount['learning_tag'] = 1\n",
    "\n",
    "    rest_positive = df_positive.loc[~ df_positive.index.isin(positive_amount.index)]\n",
    "\n",
    "    rest_amount = pd.concat([df_negitive, rest_positive])\n",
    "    rest_amount = rest_amount.sample(frac=1)\n",
    "    rest_amount['learning_tag'] = 0\n",
    "\n",
    "    final_data = pd.concat([positive_amount, rest_amount]).sample(frac=1)\n",
    "    return final_data, n"
   ]
  },
  {
   "cell_type": "code",
   "execution_count": 84,
   "id": "435843d3",
   "metadata": {},
   "outputs": [],
   "source": [
    "def education(final_data, model, train_shape, show=True):\n",
    "    X = final_data.drop(['MonkeyPox', 'learning_tag'], axis=1)\n",
    "    y = final_data.MonkeyPox\n",
    "    fake_label = final_data.learning_tag\n",
    "\n",
    "    model.fit(X[:train_shape].values, fake_label[:train_shape])\n",
    "    predictions = model.predict(X[train_shape:].values)\n",
    "    \n",
    "    if show:\n",
    "        metrics(y[train_shape:], predictions, show=show)\n",
    "        \n",
    "    else:\n",
    "        precision, recall, f_score, accuracy  = metrics(y[train_shape:], predictions, show=show)\n",
    "        return precision, recall, f_score, accuracy"
   ]
  },
  {
   "cell_type": "code",
   "execution_count": 85,
   "id": "cf3b48ee",
   "metadata": {},
   "outputs": [
    {
     "name": "stdout",
     "output_type": "stream",
     "text": [
      "Процент размеченных позитивных случаев в выборке 10%, количество 1591 \n",
      "Precision=0.000, Recall=0.000, F_score=0.000, Accuracy=0.361286\n",
      "Процент размеченных позитивных случаев в выборке 20%, количество 3182 \n",
      "Precision=0.000, Recall=0.000, F_score=0.000, Accuracy=0.375000\n",
      "Процент размеченных позитивных случаев в выборке 30%, количество 4773 \n",
      "Precision=0.000, Recall=0.000, F_score=0.000, Accuracy=0.359143\n",
      "Процент размеченных позитивных случаев в выборке 40%, количество 6364 \n",
      "Precision=0.000, Recall=0.000, F_score=0.000, Accuracy=0.358143\n",
      "Процент размеченных позитивных случаев в выборке 50%, количество 7954 \n",
      "Precision=0.850, Recall=0.022, F_score=0.042, Accuracy=0.375429\n",
      "Процент размеченных позитивных случаев в выборке 60%, количество 9545 \n",
      "Precision=0.869, Recall=0.168, F_score=0.282, Accuracy=0.448714\n",
      "Процент размеченных позитивных случаев в выборке 70%, количество 11136 \n",
      "Precision=0.804, Recall=0.412, F_score=0.545, Accuracy=0.562143\n"
     ]
    }
   ],
   "source": [
    "# Ожидаемо, справляемся хуже чем на базовой модели, что-то сносное начинает получаться\n",
    "# когда в ход идет 70%. позитивных случаев.\n",
    "fr = np.arange(0.1, 0.8, 0.1)\n",
    "for el in fr:\n",
    "    final_data, n = make_data(el)\n",
    "    print(f'Процент размеченных позитивных случаев в выборке {round(el * 100)}%, количество {n} ')\n",
    "    education(final_data, model=LogisticRegression(max_iter=1000), train_shape=18000)"
   ]
  },
  {
   "cell_type": "code",
   "execution_count": 86,
   "id": "1dd37fa6",
   "metadata": {},
   "outputs": [
    {
     "name": "stdout",
     "output_type": "stream",
     "text": [
      "Процент размеченных позитивных случаев в выборке 10%, количество 1591 \n",
      "Precision=0.833, Recall=0.003, F_score=0.007, Accuracy=0.367714\n",
      "Процент размеченных позитивных случаев в выборке 20%, количество 3182 \n",
      "Precision=0.692, Recall=0.018, F_score=0.035, Accuracy=0.370286\n",
      "Процент размеченных позитивных случаев в выборке 30%, количество 4773 \n",
      "Precision=0.757, Recall=0.074, F_score=0.135, Accuracy=0.394714\n",
      "Процент размеченных позитивных случаев в выборке 40%, количество 6364 \n",
      "Precision=0.727, Recall=0.129, F_score=0.218, Accuracy=0.415429\n",
      "Процент размеченных позитивных случаев в выборке 50%, количество 7954 \n",
      "Precision=0.688, Recall=0.233, F_score=0.348, Accuracy=0.445714\n",
      "Процент размеченных позитивных случаев в выборке 60%, количество 9545 \n",
      "Precision=0.710, Recall=0.326, F_score=0.447, Accuracy=0.486143\n",
      "Процент размеченных позитивных случаев в выборке 70%, количество 11136 \n",
      "Precision=0.724, Recall=0.476, F_score=0.574, Accuracy=0.549857\n"
     ]
    }
   ],
   "source": [
    "# Посмотрим на KNN\n",
    "\n",
    "# А тут дела явно получше, нет нулей как в логистической регрессии\n",
    "for el in fr:\n",
    "    final_data, n = make_data(el)\n",
    "    print(f'Процент размеченных позитивных случаев в выборке {round(el * 100)}%, количество {n} ')\n",
    "    education(final_data, model=KNeighborsClassifier(n_neighbors=5, weights='uniform'), train_shape=18000)"
   ]
  },
  {
   "cell_type": "code",
   "execution_count": 87,
   "id": "e69d442f",
   "metadata": {},
   "outputs": [
    {
     "name": "stdout",
     "output_type": "stream",
     "text": [
      "Процент размеченных позитивных случаев в выборке 10%, количество 1591 \n",
      "Precision=0.000, Recall=0.000, F_score=0.000, Accuracy=0.366286\n",
      "Процент размеченных позитивных случаев в выборке 20%, количество 3182 \n",
      "Precision=0.000, Recall=0.000, F_score=0.000, Accuracy=0.363000\n",
      "Процент размеченных позитивных случаев в выборке 30%, количество 4773 \n",
      "Precision=0.000, Recall=0.000, F_score=0.000, Accuracy=0.366571\n",
      "Процент размеченных позитивных случаев в выборке 40%, количество 6364 \n",
      "Precision=0.800, Recall=0.005, F_score=0.009, Accuracy=0.369143\n",
      "Процент размеченных позитивных случаев в выборке 50%, количество 7954 \n",
      "Precision=0.771, Recall=0.061, F_score=0.112, Accuracy=0.391286\n",
      "Процент размеченных позитивных случаев в выборке 60%, количество 9545 \n",
      "Precision=0.751, Recall=0.229, F_score=0.351, Accuracy=0.469000\n",
      "Процент размеченных позитивных случаев в выборке 70%, количество 11136 \n",
      "Precision=0.750, Recall=0.459, F_score=0.569, Accuracy=0.558143\n"
     ]
    }
   ],
   "source": [
    "# ну а мельком глянем на LGBM\n",
    "for el in fr:\n",
    "    final_data, n = make_data(el)\n",
    "    print(f'Процент размеченных позитивных случаев в выборке {round(el * 100)}%, количество {n} ')\n",
    "    education(final_data, model=LGBMClassifier(max_depth=7, n_estimators=300,), train_shape=18000)"
   ]
  },
  {
   "cell_type": "code",
   "execution_count": 88,
   "id": "f005f0ae",
   "metadata": {},
   "outputs": [],
   "source": [
    "# Таблицу построим на основе KNN\n",
    "for name, preds in preds_dict.items():\n",
    "    if name == 'KNN':\n",
    "        pr, re, f, acc = metrics(y_test, preds)\n",
    "r_final_data, r_n = make_data(0.7)\n",
    "r_pr, r_re, r_f, r_acc = education(r_final_data, model=KNeighborsClassifier(n_neighbors=5, weights='uniform'),\n",
    "                                   train_shape=18000, show=False)    \n",
    " "
   ]
  },
  {
   "cell_type": "code",
   "execution_count": 89,
   "id": "81e05aa8",
   "metadata": {},
   "outputs": [
    {
     "data": {
      "text/html": [
       "<div>\n",
       "<style scoped>\n",
       "    .dataframe tbody tr th:only-of-type {\n",
       "        vertical-align: middle;\n",
       "    }\n",
       "\n",
       "    .dataframe tbody tr th {\n",
       "        vertical-align: top;\n",
       "    }\n",
       "\n",
       "    .dataframe thead th {\n",
       "        text-align: right;\n",
       "    }\n",
       "</style>\n",
       "<table border=\"1\" class=\"dataframe\">\n",
       "  <thead>\n",
       "    <tr style=\"text-align: right;\">\n",
       "      <th></th>\n",
       "      <th>base knn</th>\n",
       "      <th>random ns knn 70%</th>\n",
       "    </tr>\n",
       "  </thead>\n",
       "  <tbody>\n",
       "    <tr>\n",
       "      <th>precision</th>\n",
       "      <td>0.708037</td>\n",
       "      <td>0.705996</td>\n",
       "    </tr>\n",
       "    <tr>\n",
       "      <th>recall</th>\n",
       "      <td>0.789747</td>\n",
       "      <td>0.492688</td>\n",
       "    </tr>\n",
       "    <tr>\n",
       "      <th>f_score</th>\n",
       "      <td>0.746664</td>\n",
       "      <td>0.580363</td>\n",
       "    </tr>\n",
       "    <tr>\n",
       "      <th>accuracy</th>\n",
       "      <td>0.653760</td>\n",
       "      <td>0.547571</td>\n",
       "    </tr>\n",
       "  </tbody>\n",
       "</table>\n",
       "</div>"
      ],
      "text/plain": [
       "           base knn  random ns knn 70%\n",
       "precision  0.708037           0.705996\n",
       "recall     0.789747           0.492688\n",
       "f_score    0.746664           0.580363\n",
       "accuracy   0.653760           0.547571"
      ]
     },
     "execution_count": 89,
     "metadata": {},
     "output_type": "execute_result"
    }
   ],
   "source": [
    "pd.DataFrame({'base knn': [pr, re, f, acc], 'random ns knn 70%':[r_pr, r_re, r_f, r_acc]},\n",
    "             index=['precision', 'recall', 'f_score', 'accuracy'])"
   ]
  },
  {
   "cell_type": "code",
   "execution_count": 90,
   "id": "c59a38dc",
   "metadata": {},
   "outputs": [],
   "source": [
    "# Как ни странно, почти не проседаем в точности, но очень теряем в полноте\n",
    "# что недопустимо в медицинских задачах по этическим соображениям\n",
    "# f мера тоже закономерно съехала вниз, но в целом при большом проценте позитивов это\n",
    "# вполне работает"
   ]
  }
 ],
 "metadata": {
  "kernelspec": {
   "display_name": "Python 3 (ipykernel)",
   "language": "python",
   "name": "python3"
  },
  "language_info": {
   "codemirror_mode": {
    "name": "ipython",
    "version": 3
   },
   "file_extension": ".py",
   "mimetype": "text/x-python",
   "name": "python",
   "nbconvert_exporter": "python",
   "pygments_lexer": "ipython3",
   "version": "3.9.2"
  }
 },
 "nbformat": 4,
 "nbformat_minor": 5
}
